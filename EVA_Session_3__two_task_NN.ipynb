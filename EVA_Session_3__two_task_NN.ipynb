{
  "nbformat": 4,
  "nbformat_minor": 0,
  "metadata": {
    "colab": {
      "name": "EVA_Session_3__two_task_NN",
      "provenance": [],
      "authorship_tag": "ABX9TyMI6gYaaAaMGfMN8ZRbsNVC",
      "include_colab_link": true
    },
    "kernelspec": {
      "name": "python3",
      "display_name": "Python 3"
    },
    "language_info": {
      "name": "python"
    },
    "accelerator": "GPU",
    "widgets": {
      "application/vnd.jupyter.widget-state+json": {
        "93b73cab138a4eb6890d184ecd238bfc": {
          "model_module": "@jupyter-widgets/controls",
          "model_name": "HBoxModel",
          "state": {
            "_view_name": "HBoxView",
            "_dom_classes": [],
            "_model_name": "HBoxModel",
            "_view_module": "@jupyter-widgets/controls",
            "_model_module_version": "1.5.0",
            "_view_count": null,
            "_view_module_version": "1.5.0",
            "box_style": "",
            "layout": "IPY_MODEL_4ec7590f5ad64becb0cdddd045d1e949",
            "_model_module": "@jupyter-widgets/controls",
            "children": [
              "IPY_MODEL_2a8346aa912f4cdfae1a9d48991ead11",
              "IPY_MODEL_73f594a61f8d4ec0a9bcbfb98ed0e915"
            ]
          }
        },
        "4ec7590f5ad64becb0cdddd045d1e949": {
          "model_module": "@jupyter-widgets/base",
          "model_name": "LayoutModel",
          "state": {
            "_view_name": "LayoutView",
            "grid_template_rows": null,
            "right": null,
            "justify_content": null,
            "_view_module": "@jupyter-widgets/base",
            "overflow": null,
            "_model_module_version": "1.2.0",
            "_view_count": null,
            "flex_flow": null,
            "width": null,
            "min_width": null,
            "border": null,
            "align_items": null,
            "bottom": null,
            "_model_module": "@jupyter-widgets/base",
            "top": null,
            "grid_column": null,
            "overflow_y": null,
            "overflow_x": null,
            "grid_auto_flow": null,
            "grid_area": null,
            "grid_template_columns": null,
            "flex": null,
            "_model_name": "LayoutModel",
            "justify_items": null,
            "grid_row": null,
            "max_height": null,
            "align_content": null,
            "visibility": null,
            "align_self": null,
            "height": null,
            "min_height": null,
            "padding": null,
            "grid_auto_rows": null,
            "grid_gap": null,
            "max_width": null,
            "order": null,
            "_view_module_version": "1.2.0",
            "grid_template_areas": null,
            "object_position": null,
            "object_fit": null,
            "grid_auto_columns": null,
            "margin": null,
            "display": null,
            "left": null
          }
        },
        "2a8346aa912f4cdfae1a9d48991ead11": {
          "model_module": "@jupyter-widgets/controls",
          "model_name": "FloatProgressModel",
          "state": {
            "_view_name": "ProgressView",
            "style": "IPY_MODEL_8839a08ce99f4235bee35714cc27a810",
            "_dom_classes": [],
            "description": "loss=0.07628535479307175 batch_id=422:   0%",
            "_model_name": "FloatProgressModel",
            "bar_style": "",
            "max": 469,
            "_view_module": "@jupyter-widgets/controls",
            "_model_module_version": "1.5.0",
            "value": 0,
            "_view_count": null,
            "_view_module_version": "1.5.0",
            "orientation": "horizontal",
            "min": 0,
            "description_tooltip": null,
            "_model_module": "@jupyter-widgets/controls",
            "layout": "IPY_MODEL_ee173159b3ec4ad8823f37759aaf2dd5"
          }
        },
        "73f594a61f8d4ec0a9bcbfb98ed0e915": {
          "model_module": "@jupyter-widgets/controls",
          "model_name": "HTMLModel",
          "state": {
            "_view_name": "HTMLView",
            "style": "IPY_MODEL_8c7c7f904d6c4917bcf03d93a2a3fca7",
            "_dom_classes": [],
            "description": "",
            "_model_name": "HTMLModel",
            "placeholder": "​",
            "_view_module": "@jupyter-widgets/controls",
            "_model_module_version": "1.5.0",
            "value": " 0/469 [00:31&lt;?, ?it/s]",
            "_view_count": null,
            "_view_module_version": "1.5.0",
            "description_tooltip": null,
            "_model_module": "@jupyter-widgets/controls",
            "layout": "IPY_MODEL_fc57667aa54f4185ba7bcde930c8539f"
          }
        },
        "8839a08ce99f4235bee35714cc27a810": {
          "model_module": "@jupyter-widgets/controls",
          "model_name": "ProgressStyleModel",
          "state": {
            "_view_name": "StyleView",
            "_model_name": "ProgressStyleModel",
            "description_width": "initial",
            "_view_module": "@jupyter-widgets/base",
            "_model_module_version": "1.5.0",
            "_view_count": null,
            "_view_module_version": "1.2.0",
            "bar_color": null,
            "_model_module": "@jupyter-widgets/controls"
          }
        },
        "ee173159b3ec4ad8823f37759aaf2dd5": {
          "model_module": "@jupyter-widgets/base",
          "model_name": "LayoutModel",
          "state": {
            "_view_name": "LayoutView",
            "grid_template_rows": null,
            "right": null,
            "justify_content": null,
            "_view_module": "@jupyter-widgets/base",
            "overflow": null,
            "_model_module_version": "1.2.0",
            "_view_count": null,
            "flex_flow": null,
            "width": null,
            "min_width": null,
            "border": null,
            "align_items": null,
            "bottom": null,
            "_model_module": "@jupyter-widgets/base",
            "top": null,
            "grid_column": null,
            "overflow_y": null,
            "overflow_x": null,
            "grid_auto_flow": null,
            "grid_area": null,
            "grid_template_columns": null,
            "flex": null,
            "_model_name": "LayoutModel",
            "justify_items": null,
            "grid_row": null,
            "max_height": null,
            "align_content": null,
            "visibility": null,
            "align_self": null,
            "height": null,
            "min_height": null,
            "padding": null,
            "grid_auto_rows": null,
            "grid_gap": null,
            "max_width": null,
            "order": null,
            "_view_module_version": "1.2.0",
            "grid_template_areas": null,
            "object_position": null,
            "object_fit": null,
            "grid_auto_columns": null,
            "margin": null,
            "display": null,
            "left": null
          }
        },
        "8c7c7f904d6c4917bcf03d93a2a3fca7": {
          "model_module": "@jupyter-widgets/controls",
          "model_name": "DescriptionStyleModel",
          "state": {
            "_view_name": "StyleView",
            "_model_name": "DescriptionStyleModel",
            "description_width": "",
            "_view_module": "@jupyter-widgets/base",
            "_model_module_version": "1.5.0",
            "_view_count": null,
            "_view_module_version": "1.2.0",
            "_model_module": "@jupyter-widgets/controls"
          }
        },
        "fc57667aa54f4185ba7bcde930c8539f": {
          "model_module": "@jupyter-widgets/base",
          "model_name": "LayoutModel",
          "state": {
            "_view_name": "LayoutView",
            "grid_template_rows": null,
            "right": null,
            "justify_content": null,
            "_view_module": "@jupyter-widgets/base",
            "overflow": null,
            "_model_module_version": "1.2.0",
            "_view_count": null,
            "flex_flow": null,
            "width": null,
            "min_width": null,
            "border": null,
            "align_items": null,
            "bottom": null,
            "_model_module": "@jupyter-widgets/base",
            "top": null,
            "grid_column": null,
            "overflow_y": null,
            "overflow_x": null,
            "grid_auto_flow": null,
            "grid_area": null,
            "grid_template_columns": null,
            "flex": null,
            "_model_name": "LayoutModel",
            "justify_items": null,
            "grid_row": null,
            "max_height": null,
            "align_content": null,
            "visibility": null,
            "align_self": null,
            "height": null,
            "min_height": null,
            "padding": null,
            "grid_auto_rows": null,
            "grid_gap": null,
            "max_width": null,
            "order": null,
            "_view_module_version": "1.2.0",
            "grid_template_areas": null,
            "object_position": null,
            "object_fit": null,
            "grid_auto_columns": null,
            "margin": null,
            "display": null,
            "left": null
          }
        }
      }
    }
  },
  "cells": [
    {
      "cell_type": "markdown",
      "metadata": {
        "id": "view-in-github",
        "colab_type": "text"
      },
      "source": [
        "<a href=\"https://colab.research.google.com/github/askmuhsin/nn_image_number/blob/main/EVA_Session_3__two_task_NN.ipynb\" target=\"_parent\"><img src=\"https://colab.research.google.com/assets/colab-badge.svg\" alt=\"Open In Colab\"/></a>"
      ]
    },
    {
      "cell_type": "code",
      "metadata": {
        "id": "KsEFhTgnl8K_"
      },
      "source": [
        ""
      ],
      "execution_count": null,
      "outputs": []
    },
    {
      "cell_type": "code",
      "metadata": {
        "id": "67aBuX-AmEPK"
      },
      "source": [
        "import torch\n",
        "import torchvision\n",
        "import torch.nn as nn\n",
        "import torch.optim as optim\n",
        "import torch.nn.functional as F\n",
        "from torchsummary import summary\n",
        "\n",
        "from torchvision import datasets, transforms\n",
        "from torch.utils.data import Dataset, DataLoader\n",
        "\n",
        "from tqdm.notebook import tqdm\n",
        "import matplotlib.pyplot as plt\n",
        "import numpy as np\n",
        "import random"
      ],
      "execution_count": 1,
      "outputs": []
    },
    {
      "cell_type": "code",
      "metadata": {
        "id": "PmiOh_XOmMzJ"
      },
      "source": [
        "## utils\n",
        "def batch_imshow(batch_images):\n",
        "     img = torchvision.utils.make_grid(batch_images)\n",
        "     img = img / 2 + 0.5\n",
        "     npimg = img.numpy()\n",
        "     plt.imshow(np.transpose(npimg, (1, 2, 0)))\n",
        "     plt.show()\n",
        "\n",
        "\n",
        "## test loop\n",
        "def test(model, device, test_loader):\n",
        "    model.eval()\n",
        "    test_loss = 0\n",
        "    correct_1, correct_2 = 0, 0\n",
        "    with torch.no_grad():\n",
        "      for batch_num, (img_data, img_label, num_data, out_label) in enumerate(test_loader):\n",
        "        img_data, img_label, num_data, out_label = (\n",
        "            img_data.to(device),\n",
        "            img_label.to(device),\n",
        "            num_data.to(device), \n",
        "            out_label.squeeze().to(device),\n",
        "        )\n",
        "        output = model(img_data, num_data)\n",
        "\n",
        "        out_1, out_2 = model(img_data, num_data)\n",
        "        loss_1 = criterion(out_1, img_label)\n",
        "        loss_2 = criterion(out_2, out_label)\n",
        "        loss = loss_1 + loss_2\n",
        "        test_loss += loss.item()\n",
        "\n",
        "        pred_1 = out_1.argmax(dim=1, keepdim=True)\n",
        "        pred_2 = out_2.argmax(dim=1, keepdim=True)\n",
        "        \n",
        "        correct_1 += pred_1.eq(img_label.view_as(pred_1)).sum().item()\n",
        "        correct_2 += pred_2.eq(out_label.view_as(pred_2)).sum().item()\n",
        "\n",
        "    test_loss /= len(test_loader.dataset)\n",
        "\n",
        "    print('\\nTest set: Average loss: {:.4f}, Acc task 1 : {}/{} ({:.0f}%), Acc task 2 : {}/{} ({:.0f}%)\\n'.format(\n",
        "      test_loss, \n",
        "      correct_1, len(test_loader.dataset),\n",
        "      100. * correct_1 / len(test_loader.dataset),\n",
        "      correct_2, len(test_loader.dataset),\n",
        "      100. * correct_2 / len(test_loader.dataset),\n",
        "      )\n",
        "    )\n",
        "\n",
        "\n",
        "def train(model, device, train_loader, optimizer): ## train fn\n",
        "    model.train() ## set model to training, params will be updated\n",
        "    pbar = tqdm(train_loader) ## progress\n",
        "    for batch_idx, (img_data, img_label, num_data, out_label) in enumerate(train_loader):\n",
        "        img_data, img_label, num_data, out_label = (\n",
        "            img_data.to(device),\n",
        "            img_label.to(device),\n",
        "            num_data.to(device), \n",
        "            out_label.squeeze().to(device),\n",
        "        )\n",
        "        optimizer.zero_grad() ## clean the gradients\n",
        "\n",
        "        out_1, out_2 = model(img_data, num_data)\n",
        "        loss_1 = criterion(out_1, img_label)\n",
        "        loss_2 = criterion(out_2, out_label)\n",
        "        loss = loss_1 + loss_2\n",
        "        \n",
        "        loss.backward() ## take the loss and compute gradient for all parameters\n",
        "        optimizer.step()  ## update parameters\n",
        "        pbar.set_description(desc= f'loss={loss.item()} batch_id={batch_idx}')  ## visualize progress"
      ],
      "execution_count": 9,
      "outputs": []
    },
    {
      "cell_type": "code",
      "metadata": {
        "id": "b4xYNxEPmOjr"
      },
      "source": [
        "class ImgPlusNum(Dataset):\n",
        "  \"\"\"\n",
        "  This is the Main dataloader.\n",
        "  It loads/downloads the minst Dataset. \n",
        "  It gets 1 image from MNIST, and 1 Random number bw 0 and 10 as one hot encoded tensor;\n",
        "  then sums the LABEL of the image with the random number to produce the target label (sum)\n",
        "  \"\"\"\n",
        "  def __init__(self, train=True):\n",
        "    self.train = train\n",
        "    self.mnist_data_set = datasets.MNIST(\n",
        "        root='./datasets/mnist_data/',\n",
        "        train=self.train,\n",
        "        download=True,\n",
        "        transform=transforms.Compose([\n",
        "          transforms.ToTensor(),\n",
        "          transforms.Normalize((0.1307,), (0.3081,)),\n",
        "        ])\n",
        "    )\n",
        "    print(self)\n",
        "    \n",
        "  def __len__(self):\n",
        "    return len(self.mnist_data_set)\n",
        "\n",
        "  def __getitem__(self, idx):\n",
        "    img_label = self.mnist_data_set[idx][1]\n",
        "    img_data = self.mnist_data_set[idx][0]\n",
        "\n",
        "    num_data_ = torch.randint(0, 10, (1,))\n",
        "    out_label_ = img_label + num_data_\n",
        "    # print(\"** out_label_ : \", out_label_, \"\\n** num_data_ : \", num_data_)\n",
        "\n",
        "    num_data = self.one_hot_encode(num_data_, 10)\n",
        "    # out_label = self.one_hot_encode(out_label_, 19) ## one hot encoding sum did not work well\n",
        "    out_label = out_label_\n",
        "    return img_data, img_label, num_data, out_label\n",
        "  \n",
        "  def one_hot_encode(self, val, vec_len):\n",
        "    num_label = torch.zeros(1, vec_len)\n",
        "    num_label[0, val] = 1\n",
        "    return num_label\n",
        "  \n",
        "  def __repr__(self):\n",
        "    return 'Loaded MNIST {} data of len {}'.format(\n",
        "        'training' if self.train else 'testing', self.__len__()\n",
        "    )"
      ],
      "execution_count": 3,
      "outputs": []
    },
    {
      "cell_type": "code",
      "metadata": {
        "colab": {
          "base_uri": "https://localhost:8080/"
        },
        "id": "tVpDd46PmyKm",
        "outputId": "5d04f06f-735a-4369-a266-12eb996fc521"
      },
      "source": [
        "use_cuda = torch.cuda.is_available()  ## on which hardware the model should be trained on\n",
        "device = torch.device(\"cuda\" if use_cuda else \"cpu\")  ## on which hardware the model should be trained on\n",
        "device"
      ],
      "execution_count": 6,
      "outputs": [
        {
          "output_type": "execute_result",
          "data": {
            "text/plain": [
              "device(type='cuda')"
            ]
          },
          "metadata": {
            "tags": []
          },
          "execution_count": 5
        },
        {
          "output_type": "execute_result",
          "data": {
            "text/plain": [
              "device(type='cuda')"
            ]
          },
          "metadata": {
            "tags": []
          },
          "execution_count": 6
        }
      ]
    },
    {
      "cell_type": "code",
      "metadata": {
        "id": "TMEij_LKmbXl"
      },
      "source": [
        "class Net(nn.Module): ## this is the standard way of creating\n",
        "    def __init__(self): ## the fn gets called at the time of class creation\n",
        "        super(Net, self).__init__() ## provide access of parent class methods nn.Module.__init__(self, 'Net')\n",
        "        self.conv1 = nn.Conv2d(1, 32, 3, padding=1)     #input 28X28X1    | Output  28X28X32    | RF 3X3\n",
        "        self.conv2 = nn.Conv2d(32, 64, 3, padding=1)    #input 28X28X32   | Output  28X28X64    | RF 5X5\n",
        "        self.pool1 = nn.MaxPool2d(2, 2)                 #input 28X28X64   | Output  14X14X64    | RF 7X7\n",
        "        self.conv3 = nn.Conv2d(64, 128, 3, padding=1)   #input 14X14X64   | Output  14X14X128   | RF 14X14\n",
        "        self.conv4 = nn.Conv2d(128, 256, 3, padding=1)  #input 14X14X128  | Output  14X14X256   | RF 16X16\n",
        "        self.pool2 = nn.MaxPool2d(2, 2)                 #input 14X14X256  | Output  7X7X256     | RF 18X18\n",
        "        self.conv5 = nn.Conv2d(256, 512, 3)             #input 7X7X256    | Output  5X5X512     | RF 36X36\n",
        "        self.conv6 = nn.Conv2d(512, 1024, 3)            #input 5X5X512    | Output  3X3X1024    | RF 40X40\n",
        "        self.conv7 = nn.Conv2d(1024, 10, 3)             #input 3X3X1024   | Output  1X1X10      | RF 42X42\n",
        "        \n",
        "        self.fc1 = nn.Linear(20, 30)\n",
        "        self.fc2 = nn.Linear(30, 30)\n",
        "        self.fc3 = nn.Linear(30, 19)\n",
        "\n",
        "    def forward(self, x1, x2):\n",
        "        x1 = self.pool1(F.relu(self.conv2(F.relu(self.conv1(x1))))) ## 1 layer of operation\n",
        "        x1 = self.pool2(F.relu(self.conv4(F.relu(self.conv3(x1))))) ## 2nd layer of ops\n",
        "        x1 = F.relu(self.conv6(F.relu(self.conv5(x1)))) ## 4th layer of operation\n",
        "        x1 = self.conv7(x1)   ## final layer of conv operation\n",
        "        x1 = x1.view(-1, 10)  ## changing the shape of the array\n",
        "        out_1 = F.log_softmax(x1, dim=0) ## out of image\n",
        "\n",
        "        x3 = torch.cat([x1, x2.view(-1, 10)], dim=1) ## this layer combines out of CNN with the random number\n",
        "        x3 = F.relu(self.fc1(x3)) ## fully connected layer to learn summing\n",
        "        x3 = F.relu(self.fc2(x3)) ## fully connected layer to learn summing\n",
        "        x3 = self.fc3(x3)\n",
        "        x3 = x3.view(-1, 19)\n",
        "        out_2 = F.log_softmax(x3, dim=0) ## out of sum'mer\n",
        "        return out_1, out_2\n",
        "\n",
        "model = Net().to(device)"
      ],
      "execution_count": 7,
      "outputs": []
    },
    {
      "cell_type": "code",
      "metadata": {
        "colab": {
          "base_uri": "https://localhost:8080/",
          "height": 460
        },
        "id": "kq9ZaIUBmEgf",
        "outputId": "8ba7fe10-ce40-4ef6-cb40-ce10b4efd6f2"
      },
      "source": [
        "## debug Data Generator\n",
        "dataset = ImgPlusNum(train=False)\n",
        "loader = DataLoader(dataset=dataset, batch_size=1, shuffle=False)\n",
        "\n",
        "for batch_num, (img_data, img_label, num_data, out_label) in enumerate(loader):\n",
        "  print('img_data : ', img_data.shape)\n",
        "  print('img_label : ', img_label)\n",
        "  print('num_data : \\n\\tvalue - {}\\n\\tshape - {}\\n\\ttensor - {}'.format(\n",
        "      num_data.argmax(dim=-1), num_data.shape, num_data)\n",
        "  )\n",
        "  print('out_label : \\n\\tvalue - {}\\n\\tshape - {}\\n\\ttensor - {}'.format(\n",
        "      out_label.item(), out_label.shape, out_label)\n",
        "  )\n",
        "  batch_imshow(img_data)\n",
        "  break"
      ],
      "execution_count": 10,
      "outputs": [
        {
          "output_type": "stream",
          "text": [
            "Clipping input data to the valid range for imshow with RGB data ([0..1] for floats or [0..255] for integers).\n"
          ],
          "name": "stderr"
        },
        {
          "output_type": "stream",
          "text": [
            "Loaded MNIST testing data of len 10000\n",
            "img_data :  torch.Size([1, 1, 28, 28])\n",
            "img_label :  tensor([7])\n",
            "num_data : \n",
            "\tvalue - tensor([[6]])\n",
            "\tshape - torch.Size([1, 1, 10])\n",
            "\ttensor - tensor([[[0., 0., 0., 0., 0., 0., 1., 0., 0., 0.]]])\n",
            "out_label : \n",
            "\tvalue - 13\n",
            "\tshape - torch.Size([1, 1])\n",
            "\ttensor - tensor([[13]])\n"
          ],
          "name": "stdout"
        },
        {
          "output_type": "display_data",
          "data": {
            "image/png": "[encoded data removed]",
            "text/plain": [
              "<Figure size 432x288 with 1 Axes>"
            ]
          },
          "metadata": {
            "tags": [],
            "needs_background": "light"
          }
        }
      ]
    },
    {
      "cell_type": "code",
      "metadata": {
        "colab": {
          "base_uri": "https://localhost:8080/"
        },
        "id": "v4YCL73LnAvL",
        "outputId": "601d299e-1abf-431e-c6e4-b9793c7910ac"
      },
      "source": [
        "## debug Model\n",
        "summary(model, input_size=[(1, 28, 28), (1, 1, 10)])  ## view model summary\n",
        "\n",
        "print('\\n\\n')\n",
        "print(\"input 1 (image) : \", img_data.shape)\n",
        "print(\"input 2 (random number) : \", num_data.shape)\n",
        "\n",
        "out = model(img_data.to(device), num_data.to(device))\n",
        "print(\"output : \", out[0].shape, out[1].shape)\n",
        "# print(out, out.argmax())"
      ],
      "execution_count": 11,
      "outputs": [
        {
          "output_type": "stream",
          "text": [
            "----------------------------------------------------------------\n",
            "        Layer (type)               Output Shape         Param #\n",
            "================================================================\n",
            "            Conv2d-1           [-1, 32, 28, 28]             320\n",
            "            Conv2d-2           [-1, 64, 28, 28]          18,496\n",
            "         MaxPool2d-3           [-1, 64, 14, 14]               0\n",
            "            Conv2d-4          [-1, 128, 14, 14]          73,856\n",
            "            Conv2d-5          [-1, 256, 14, 14]         295,168\n",
            "         MaxPool2d-6            [-1, 256, 7, 7]               0\n",
            "            Conv2d-7            [-1, 512, 5, 5]       1,180,160\n",
            "            Conv2d-8           [-1, 1024, 3, 3]       4,719,616\n",
            "            Conv2d-9             [-1, 10, 1, 1]          92,170\n",
            "           Linear-10                   [-1, 30]             630\n",
            "           Linear-11                   [-1, 30]             930\n",
            "           Linear-12                   [-1, 19]             589\n",
            "================================================================\n",
            "Total params: 6,381,935\n",
            "Trainable params: 6,381,935\n",
            "Non-trainable params: 0\n",
            "----------------------------------------------------------------\n",
            "Input size (MB): 0.03\n",
            "Forward/backward pass size (MB): 1.51\n",
            "Params size (MB): 24.35\n",
            "Estimated Total Size (MB): 25.88\n",
            "----------------------------------------------------------------\n",
            "\n",
            "\n",
            "\n",
            "input 1 (image) :  torch.Size([1, 1, 28, 28])\n",
            "input 2 (random number) :  torch.Size([1, 1, 10])\n",
            "output :  torch.Size([1, 10]) torch.Size([1, 19])\n"
          ],
          "name": "stdout"
        }
      ]
    },
    {
      "cell_type": "code",
      "metadata": {
        "colab": {
          "base_uri": "https://localhost:8080/"
        },
        "id": "axIgY-D2nD69",
        "outputId": "618aaf71-af07-473f-ce21-539acda30efd"
      },
      "source": [
        "torch.manual_seed(1)  ## fixed start point\n",
        "batch_size = 128  ## number of images in a batch\n",
        "epochs = 5\n",
        "\n",
        "criterion = nn.CrossEntropyLoss()\n",
        "\n",
        "test_dataset = ImgPlusNum(train=False)\n",
        "test_loader = DataLoader(dataset=test_dataset, batch_size=batch_size, shuffle=False)\n",
        "\n",
        "train_dataset = ImgPlusNum(train=True)\n",
        "train_loader = DataLoader(dataset=train_dataset, batch_size=batch_size, shuffle=True)\n",
        "\n",
        "# optimizer = optim.SGD(model.parameters(), lr=0.01, momentum=0.9)\n",
        "optimizer = optim.Adam(model.parameters())"
      ],
      "execution_count": 13,
      "outputs": [
        {
          "output_type": "stream",
          "text": [
            "Loaded MNIST testing data of len 10000\n",
            "Loaded MNIST training data of len 60000\n"
          ],
          "name": "stdout"
        }
      ]
    },
    {
      "cell_type": "code",
      "metadata": {
        "colab": {
          "base_uri": "https://localhost:8080/",
          "height": 65,
          "referenced_widgets": [
            "93b73cab138a4eb6890d184ecd238bfc",
            "4ec7590f5ad64becb0cdddd045d1e949",
            "2a8346aa912f4cdfae1a9d48991ead11",
            "73f594a61f8d4ec0a9bcbfb98ed0e915",
            "8839a08ce99f4235bee35714cc27a810",
            "ee173159b3ec4ad8823f37759aaf2dd5",
            "8c7c7f904d6c4917bcf03d93a2a3fca7",
            "fc57667aa54f4185ba7bcde930c8539f"
          ]
        },
        "id": "1Ovz-riWolTc",
        "outputId": "3844947f-d972-444d-aff4-5eadda6d7654"
      },
      "source": [
        "for epoch in range(epochs):\n",
        "  print(f\"EPOCH [ {epoch + 5} / {epochs} ]\")\n",
        "  train(model, device, train_loader, optimizer)\n",
        "  test(model, device, test_loader)"
      ],
      "execution_count": null,
      "outputs": [
        {
          "output_type": "stream",
          "text": [
            "EPOCH [ 5 / 5 ]\n"
          ],
          "name": "stdout"
        },
        {
          "output_type": "display_data",
          "data": {
            "application/vnd.jupyter.widget-view+json": {
              "model_id": "93b73cab138a4eb6890d184ecd238bfc",
              "version_minor": 0,
              "version_major": 2
            },
            "text/plain": [
              "HBox(children=(FloatProgress(value=0.0, max=469.0), HTML(value='')))"
            ]
          },
          "metadata": {
            "tags": []
          }
        }
      ]
    },
    {
      "cell_type": "code",
      "metadata": {
        "id": "DHGZGxp_o4og"
      },
      "source": [
        ""
      ],
      "execution_count": null,
      "outputs": []
    },
    {
      "cell_type": "code",
      "metadata": {
        "id": "9ijnfXkDnD9K"
      },
      "source": [
        ""
      ],
      "execution_count": null,
      "outputs": []
    },
    {
      "cell_type": "code",
      "metadata": {
        "id": "OB4RdlqznD_n"
      },
      "source": [
        ""
      ],
      "execution_count": null,
      "outputs": []
    },
    {
      "cell_type": "code",
      "metadata": {
        "id": "kk8wo8ZGnEBf"
      },
      "source": [
        ""
      ],
      "execution_count": null,
      "outputs": []
    }
  ]
}